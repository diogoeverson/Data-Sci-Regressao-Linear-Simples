{
 "cells": [
  {
   "cell_type": "code",
   "execution_count": 12,
   "metadata": {},
   "outputs": [],
   "source": [
    "import numpy as np\n",
    "import pandas as pd\n",
    "import matplotlib.pyplot as plt\n",
    "import matplotlib as mpl\n",
    "import statsmodels.api as sm\n",
    "from sklearn import linear_model\n",
    "from scipy.optimize import fmin\n",
    "import warnings\n",
    "warnings.filterwarnings(\"ignore\")\n",
    "%matplotlib inline "
   ]
  },
  {
   "cell_type": "code",
   "execution_count": null,
   "metadata": {},
   "outputs": [],
   "source": [
    "df = pd.read_csv('automobile_data.csv')"
   ]
  },
  {
   "cell_type": "code",
   "execution_count": 7,
   "metadata": {},
   "outputs": [
    {
     "data": {
      "text/plain": [
       "<bound method NDFrame.astype of      symboling normalized-losses         make fuel-type aspiration  \\\n",
       "0            3                 ?  alfa-romero       gas        std   \n",
       "1            3                 ?  alfa-romero       gas        std   \n",
       "2            1                 ?  alfa-romero       gas        std   \n",
       "3            2               164         audi       gas        std   \n",
       "4            2               164         audi       gas        std   \n",
       "..         ...               ...          ...       ...        ...   \n",
       "200         -1                95        volvo       gas        std   \n",
       "201         -1                95        volvo       gas      turbo   \n",
       "202         -1                95        volvo       gas        std   \n",
       "203         -1                95        volvo    diesel      turbo   \n",
       "204         -1                95        volvo       gas      turbo   \n",
       "\n",
       "    num-of-doors   body-style drive-wheels engine-location  wheel-base  ...  \\\n",
       "0            two  convertible          rwd           front        88.6  ...   \n",
       "1            two  convertible          rwd           front        88.6  ...   \n",
       "2            two    hatchback          rwd           front        94.5  ...   \n",
       "3           four        sedan          fwd           front        99.8  ...   \n",
       "4           four        sedan          4wd           front        99.4  ...   \n",
       "..           ...          ...          ...             ...         ...  ...   \n",
       "200         four        sedan          rwd           front       109.1  ...   \n",
       "201         four        sedan          rwd           front       109.1  ...   \n",
       "202         four        sedan          rwd           front       109.1  ...   \n",
       "203         four        sedan          rwd           front       109.1  ...   \n",
       "204         four        sedan          rwd           front       109.1  ...   \n",
       "\n",
       "     engine-size  fuel-system  bore  stroke compression-ratio horsepower  \\\n",
       "0            130         mpfi  3.47    2.68               9.0        111   \n",
       "1            130         mpfi  3.47    2.68               9.0        111   \n",
       "2            152         mpfi  2.68    3.47               9.0        154   \n",
       "3            109         mpfi  3.19     3.4              10.0        102   \n",
       "4            136         mpfi  3.19     3.4               8.0        115   \n",
       "..           ...          ...   ...     ...               ...        ...   \n",
       "200          141         mpfi  3.78    3.15               9.5        114   \n",
       "201          141         mpfi  3.78    3.15               8.7        160   \n",
       "202          173         mpfi  3.58    2.87               8.8        134   \n",
       "203          145          idi  3.01     3.4              23.0        106   \n",
       "204          141         mpfi  3.78    3.15               9.5        114   \n",
       "\n",
       "     peak-rpm city-mpg highway-mpg  price  \n",
       "0        5000       21          27  13495  \n",
       "1        5000       21          27  16500  \n",
       "2        5000       19          26  16500  \n",
       "3        5500       24          30  13950  \n",
       "4        5500       18          22  17450  \n",
       "..        ...      ...         ...    ...  \n",
       "200      5400       23          28  16845  \n",
       "201      5300       19          25  19045  \n",
       "202      5500       18          23  21485  \n",
       "203      4800       26          27  22470  \n",
       "204      5400       19          25  22625  \n",
       "\n",
       "[199 rows x 26 columns]>"
      ]
     },
     "execution_count": 7,
     "metadata": {},
     "output_type": "execute_result"
    }
   ],
   "source": [
    "df.astype"
   ]
  },
  {
   "cell_type": "code",
   "execution_count": 3,
   "metadata": {},
   "outputs": [],
   "source": [
    "df = df.drop(df[df.horsepower  == '?'].index)\n",
    "df = df.drop(df[df.price  == '?'].index)"
   ]
  },
  {
   "cell_type": "code",
   "execution_count": 4,
   "metadata": {},
   "outputs": [],
   "source": [
    "X = df['horsepower'].values.astype(int)\n",
    "Y = df['price'].values.astype(int)"
   ]
  },
  {
   "cell_type": "code",
   "execution_count": 8,
   "metadata": {},
   "outputs": [
    {
     "data": {
      "text/plain": [
       "13243.43216080402"
      ]
     },
     "execution_count": 8,
     "metadata": {},
     "output_type": "execute_result"
    }
   ],
   "source": [
    "valor_medio_esperado_na_previsao = np.mean(Y)\n",
    "valor_medio_esperado_na_previsao"
   ]
  },
  {
   "cell_type": "code",
   "execution_count": 10,
   "metadata": {},
   "outputs": [
    {
     "name": "stdout",
     "output_type": "stream",
     "text": [
      "Soma dos Squared Erros (SSE): 12604635471\n"
     ]
    }
   ],
   "source": [
    "\n",
    "squared_errors = pd.Series(valor_medio_esperado_na_previsao - Y)**2 \n",
    "SSE = np.sum(squared_errors)\n",
    "print ('Soma dos Squared Erros (SSE): %01.f' % SSE)"
   ]
  },
  {
   "cell_type": "code",
   "execution_count": 14,
   "metadata": {},
   "outputs": [
    {
     "data": {
      "image/png": "[encoded data removed]",
      "text/plain": [
       "<Figure size 432x288 with 1 Axes>"
      ]
     },
     "metadata": {
      "needs_background": "light"
     },
     "output_type": "display_data"
    }
   ],
   "source": [
    "#mais erros menores o que é bom sinal\n",
    "hist_plot = squared_errors.plot(kind='hist')"
   ]
  },
  {
   "cell_type": "code",
   "execution_count": 15,
   "metadata": {},
   "outputs": [],
   "source": [
    "def desvio_padrao(variable, bias = 0):\n",
    "    observations = float(len(variable))\n",
    "    return np.sqrt(np.sum((variable - np.mean(variable))**2) / (observations - min(bias, 1)))"
   ]
  },
  {
   "cell_type": "code",
   "execution_count": 18,
   "metadata": {},
   "outputs": [
    {
     "name": "stdout",
     "output_type": "stream",
     "text": [
      "Resultado da Função: 37.45937 Resultado do Numpy: 37.45937\n"
     ]
    }
   ],
   "source": [
    "#desvio padrão da variável X numpy vs função\n",
    "print ('Resultado da Função: %0.5f Resultado do Numpy: %0.5f' % (desvio_padrao(X), np.std(X)))"
   ]
  },
  {
   "cell_type": "code",
   "execution_count": 19,
   "metadata": {},
   "outputs": [],
   "source": [
    "#variância\n",
    "def covariance(variable_1, variable_2, bias = 0):\n",
    "    observations = float(len(variable_1))\n",
    "    return np.sum((variable_1 - np.mean(variable_1)) * (variable_2 - np.mean(variable_2))) / (observations - min(bias,1))\n",
    "#padronização / scale\n",
    "def standardize(variable):\n",
    "    return (variable - np.mean(variable)) / np.std(variable)\n",
    "#correlação entre variáveis\n",
    "def correlation(var1, var2, bias = 0):\n",
    "    return covariance(standardize(var1), standardize(var2), bias)"
   ]
  },
  {
   "cell_type": "code",
   "execution_count": 29,
   "metadata": {},
   "outputs": [],
   "source": [
    "# Definindo o range dos valores de x e y\n",
    "x_range = [df['horsepower'].min(),df['horsepower'].max()]\n",
    "y_range = [df['price'].min(),df['price'].max()]"
   ]
  },
  {
   "cell_type": "code",
   "execution_count": 32,
   "metadata": {},
   "outputs": [],
   "source": [
    "#Modelo de regressão linear com statsmodel\n",
    "X = sm.add_constant(X)"
   ]
  },
  {
   "cell_type": "code",
   "execution_count": 33,
   "metadata": {},
   "outputs": [],
   "source": [
    "# Criando o modelo de regressão\n",
    "modelo = sm.OLS(Y, X)\n",
    "\n",
    "# Treinando o modelo\n",
    "modelo_v1 = modelo.fit()"
   ]
  },
  {
   "cell_type": "code",
   "execution_count": 34,
   "metadata": {},
   "outputs": [
    {
     "name": "stdout",
     "output_type": "stream",
     "text": [
      "                            OLS Regression Results                            \n",
      "==============================================================================\n",
      "Dep. Variable:                      y   R-squared:                       0.657\n",
      "Model:                            OLS   Adj. R-squared:                  0.655\n",
      "Method:                 Least Squares   F-statistic:                     377.3\n",
      "Date:                Wed, 22 Apr 2020   Prob (F-statistic):           1.19e-47\n",
      "Time:                        20:30:52   Log-Likelihood:                -1963.3\n",
      "No. Observations:                 199   AIC:                             3931.\n",
      "Df Residuals:                     197   BIC:                             3937.\n",
      "Df Model:                           1                                         \n",
      "Covariance Type:            nonrobust                                         \n",
      "==============================================================================\n",
      "                 coef    std err          t      P>|t|      [0.025      0.975]\n",
      "------------------------------------------------------------------------------\n",
      "const      -4562.1750    974.995     -4.679      0.000   -6484.943   -2639.407\n",
      "x1           172.2063      8.866     19.424      0.000     154.722     189.690\n",
      "==============================================================================\n",
      "Omnibus:                       38.494   Durbin-Watson:                   0.749\n",
      "Prob(Omnibus):                  0.000   Jarque-Bera (JB):               64.496\n",
      "Skew:                           1.013   Prob(JB):                     9.89e-15\n",
      "Kurtosis:                       4.916   Cond. No.                         323.\n",
      "==============================================================================\n",
      "\n",
      "Warnings:\n",
      "[1] Standard Errors assume that the covariance matrix of the errors is correctly specified.\n"
     ]
    }
   ],
   "source": [
    "print(modelo_v1.summary())"
   ]
  },
  {
   "cell_type": "code",
   "execution_count": 35,
   "metadata": {},
   "outputs": [
    {
     "name": "stdout",
     "output_type": "stream",
     "text": [
      "[-4562.17499567   172.20625117]\n"
     ]
    }
   ],
   "source": [
    "print(modelo_v1.params)"
   ]
  },
  {
   "cell_type": "code",
   "execution_count": 36,
   "metadata": {},
   "outputs": [
    {
     "data": {
      "text/plain": [
       "array([14552.71888455, 14552.71888455, 21957.58768499, 13002.86262399,\n",
       "       15241.54388924, 14380.51263337, 14380.51263337, 14380.51263337,\n",
       "       19546.70016857, 12830.65637282, 12830.65637282, 16274.78139628,\n",
       "       16274.78139628, 16274.78139628, 26779.36271784, 26779.36271784,\n",
       "       26779.36271784,  3703.72506064,  7492.26258645,  7492.26258645,\n",
       "        7147.8500841 ,  7147.8500841 , 13002.86262399,  7147.8500841 ,\n",
       "        7147.8500841 ,  7147.8500841 , 13002.86262399, 10591.97510757,\n",
       "       20407.73142443,  5425.78757237,  8525.50009349,  5770.20007472,\n",
       "        8525.50009349,  8525.50009349,  8525.50009349,  8525.50009349,\n",
       "       10247.56260522, 10247.56260522, 10247.56260522, 10247.56260522,\n",
       "       12830.65637282, 12658.45012164,  8869.91259583, 10936.38760991,\n",
       "       25746.1252108 , 25746.1252108 , 40555.86281169,  7147.8500841 ,\n",
       "        7147.8500841 ,  7147.8500841 ,  7147.8500841 ,  7147.8500841 ,\n",
       "       12830.65637282, 12830.65637282, 12830.65637282, 18685.6689127 ,\n",
       "        9903.15010287,  9903.15010287,  9903.15010287,  9903.15010287,\n",
       "        6459.02507941,  9903.15010287, 16102.57514511,  7836.6750888 ,\n",
       "       16619.19389862, 16619.19389862, 16619.19389862, 16619.19389862,\n",
       "       22129.79393616, 22129.79393616, 27123.77522018, 27123.77522018,\n",
       "       25573.91895963,  7147.8500841 ,  7147.8500841 ,  7147.8500841 ,\n",
       "       13002.86262399, 15413.75014041, 10591.97510757, 20407.73142443,\n",
       "       20407.73142443, 20407.73142443, 10591.97510757, 10591.97510757,\n",
       "       15413.75014041, 15413.75014041,  7320.05633528,  4909.16881885,\n",
       "        7320.05633528,  7320.05633528,  7320.05633528,  7320.05633528,\n",
       "        7320.05633528,  7320.05633528,  7320.05633528,  7320.05633528,\n",
       "       12141.83136812, 12141.83136812, 21613.17518264, 21613.17518264,\n",
       "       21613.17518264, 22990.82519203, 29879.07523895, 22990.82519203,\n",
       "       12141.83136812, 11797.41886578, 12141.83136812, 11797.41886578,\n",
       "       11797.41886578, 11797.41886578, 11797.41886578, 11797.41886578,\n",
       "       12141.83136812, 11797.41886578, 19891.11267091,  7147.8500841 ,\n",
       "       13002.86262399,  7147.8500841 ,  7147.8500841 ,  7147.8500841 ,\n",
       "       10591.97510757, 20407.73142443, 20063.31892209, 31084.51899717,\n",
       "       31084.51899717, 31084.51899717, 14380.51263337, 14380.51263337,\n",
       "       14380.51263337, 14380.51263337, 22990.82519203, 22990.82519203,\n",
       "        7320.05633528,  8008.88133997,  8008.88133997,  9558.73760053,\n",
       "        9558.73760053, 11625.2126146 ,  9558.73760053, 14552.71888455,\n",
       "        9558.73760053, 11625.2126146 ,  9558.73760053, 14552.71888455,\n",
       "        6114.61257707,  6114.61257707,  6114.61257707,  6114.61257707,\n",
       "        6114.61257707,  6114.61257707,  7492.26258645,  7492.26258645,\n",
       "        5081.37507003,  5081.37507003,  7492.26258645,  7492.26258645,\n",
       "        7492.26258645,  7492.26258645,  7492.26258645, 14724.92513572,\n",
       "       14724.92513572, 15413.75014041, 15413.75014041, 15413.75014041,\n",
       "       15413.75014041, 15413.75014041, 15413.75014041, 11280.80011226,\n",
       "        8008.88133997, 11280.80011226, 11280.80011226, 11280.80011226,\n",
       "       23163.0314432 , 23163.0314432 , 22302.00018734, 22302.00018734,\n",
       "        4392.55006533, 10075.35635405,  4392.55006533, 10075.35635405,\n",
       "       10075.35635405,  7147.8500841 , 12658.45012164, 10936.38760991,\n",
       "       10936.38760991, 14380.51263337,  7147.8500841 , 10591.97510757,\n",
       "       15069.33763807, 15069.33763807, 15069.33763807, 15069.33763807,\n",
       "       23335.23769438, 23335.23769438, 15069.33763807, 22990.82519203,\n",
       "       18513.46266153, 13691.68762868, 15069.33763807])"
      ]
     },
     "execution_count": 36,
     "metadata": {},
     "output_type": "execute_result"
    }
   ],
   "source": [
    "# Gerando os valores previstos\n",
    "valores_previstos = modelo_v1.predict(X)\n",
    "valores_previstos"
   ]
  },
  {
   "cell_type": "code",
   "execution_count": 38,
   "metadata": {},
   "outputs": [
    {
     "name": "stdout",
     "output_type": "stream",
     "text": [
      "Se horsepower = 200 nosso modelo prevê que a mediana do preço é 29879.1\n"
     ]
    }
   ],
   "source": [
    "# Fazendo previsões com o modelo treinado\n",
    "horsepower = 200\n",
    "Xp = np.array([1, horsepower])\n",
    "print (\"Se horsepower = %01.f nosso modelo prevê que a mediana do preço é %0.1f\" % (horsepower, modelo_v1.predict(Xp)))"
   ]
  },
  {
   "cell_type": "code",
   "execution_count": 40,
   "metadata": {},
   "outputs": [
    {
     "data": {
      "image/png": "[encoded data removed]",
      "text/plain": [
       "<Figure size 432x288 with 1 Axes>"
      ]
     },
     "metadata": {
      "needs_background": "light"
     },
     "output_type": "display_data"
    }
   ],
   "source": [
    "#AJUSTAR O GRÁFICO\n",
    "# Primeira camada do Scatter Plot\n",
    "scatter_plot = df.plot(kind = 'scatter', x = 'horsepower', y = 'price', xlim = x_range, ylim = y_range)\n",
    "\n",
    "# Segunda camada do Scatter Plot (médias)\n",
    "meanY = scatter_plot.plot(x_range, [df['price'].mean(),df['price'].mean()], '--', color = 'red', linewidth = 1)\n",
    "meanX = scatter_plot.plot([df['horsepower'].mean(),df['horsepower'].mean()], y_range, '--', color = 'red', linewidth = 1)\n",
    "\n",
    "# Terceira camada do Scatter Plot (linha de regressão)\n",
    "regression_line = scatter_plot.plot(df['horsepower'], valores_previstos, '-', color = 'orange', linewidth = 2)"
   ]
  },
  {
   "cell_type": "code",
   "execution_count": 43,
   "metadata": {},
   "outputs": [],
   "source": [
    "#Modelo de regressão linear com skitlearn\n",
    "modelo_v2 = linear_model.LinearRegression(normalize = False, fit_intercept = True)"
   ]
  },
  {
   "cell_type": "code",
   "execution_count": 42,
   "metadata": {},
   "outputs": [],
   "source": [
    "# Define os valores de x e y\n",
    "num_observ = len(df)\n",
    "X = df['horsepower'].values.reshape((num_observ, 1)) # X deve sempre ser uma matriz e nunca um vetor\n",
    "y = df['price'].values # y pode ser um vetor"
   ]
  },
  {
   "cell_type": "code",
   "execution_count": 44,
   "metadata": {},
   "outputs": [
    {
     "data": {
      "text/plain": [
       "array([['111'],\n",
       "       ['111'],\n",
       "       ['154'],\n",
       "       ['102'],\n",
       "       ['115'],\n",
       "       ['110'],\n",
       "       ['110'],\n",
       "       ['110'],\n",
       "       ['140'],\n",
       "       ['101'],\n",
       "       ['101'],\n",
       "       ['121'],\n",
       "       ['121'],\n",
       "       ['121'],\n",
       "       ['182'],\n",
       "       ['182'],\n",
       "       ['182'],\n",
       "       ['48'],\n",
       "       ['70'],\n",
       "       ['70'],\n",
       "       ['68'],\n",
       "       ['68'],\n",
       "       ['102'],\n",
       "       ['68'],\n",
       "       ['68'],\n",
       "       ['68'],\n",
       "       ['102'],\n",
       "       ['88'],\n",
       "       ['145'],\n",
       "       ['58'],\n",
       "       ['76'],\n",
       "       ['60'],\n",
       "       ['76'],\n",
       "       ['76'],\n",
       "       ['76'],\n",
       "       ['76'],\n",
       "       ['86'],\n",
       "       ['86'],\n",
       "       ['86'],\n",
       "       ['86'],\n",
       "       ['101'],\n",
       "       ['100'],\n",
       "       ['78'],\n",
       "       ['90'],\n",
       "       ['176'],\n",
       "       ['176'],\n",
       "       ['262'],\n",
       "       ['68'],\n",
       "       ['68'],\n",
       "       ['68'],\n",
       "       ['68'],\n",
       "       ['68'],\n",
       "       ['101'],\n",
       "       ['101'],\n",
       "       ['101'],\n",
       "       ['135'],\n",
       "       ['84'],\n",
       "       ['84'],\n",
       "       ['84'],\n",
       "       ['84'],\n",
       "       ['64'],\n",
       "       ['84'],\n",
       "       ['120'],\n",
       "       ['72'],\n",
       "       ['123'],\n",
       "       ['123'],\n",
       "       ['123'],\n",
       "       ['123'],\n",
       "       ['155'],\n",
       "       ['155'],\n",
       "       ['184'],\n",
       "       ['184'],\n",
       "       ['175'],\n",
       "       ['68'],\n",
       "       ['68'],\n",
       "       ['68'],\n",
       "       ['102'],\n",
       "       ['116'],\n",
       "       ['88'],\n",
       "       ['145'],\n",
       "       ['145'],\n",
       "       ['145'],\n",
       "       ['88'],\n",
       "       ['88'],\n",
       "       ['116'],\n",
       "       ['116'],\n",
       "       ['69'],\n",
       "       ['55'],\n",
       "       ['69'],\n",
       "       ['69'],\n",
       "       ['69'],\n",
       "       ['69'],\n",
       "       ['69'],\n",
       "       ['69'],\n",
       "       ['69'],\n",
       "       ['69'],\n",
       "       ['97'],\n",
       "       ['97'],\n",
       "       ['152'],\n",
       "       ['152'],\n",
       "       ['152'],\n",
       "       ['160'],\n",
       "       ['200'],\n",
       "       ['160'],\n",
       "       ['97'],\n",
       "       ['95'],\n",
       "       ['97'],\n",
       "       ['95'],\n",
       "       ['95'],\n",
       "       ['95'],\n",
       "       ['95'],\n",
       "       ['95'],\n",
       "       ['97'],\n",
       "       ['95'],\n",
       "       ['142'],\n",
       "       ['68'],\n",
       "       ['102'],\n",
       "       ['68'],\n",
       "       ['68'],\n",
       "       ['68'],\n",
       "       ['88'],\n",
       "       ['145'],\n",
       "       ['143'],\n",
       "       ['207'],\n",
       "       ['207'],\n",
       "       ['207'],\n",
       "       ['110'],\n",
       "       ['110'],\n",
       "       ['110'],\n",
       "       ['110'],\n",
       "       ['160'],\n",
       "       ['160'],\n",
       "       ['69'],\n",
       "       ['73'],\n",
       "       ['73'],\n",
       "       ['82'],\n",
       "       ['82'],\n",
       "       ['94'],\n",
       "       ['82'],\n",
       "       ['111'],\n",
       "       ['82'],\n",
       "       ['94'],\n",
       "       ['82'],\n",
       "       ['111'],\n",
       "       ['62'],\n",
       "       ['62'],\n",
       "       ['62'],\n",
       "       ['62'],\n",
       "       ['62'],\n",
       "       ['62'],\n",
       "       ['70'],\n",
       "       ['70'],\n",
       "       ['56'],\n",
       "       ['56'],\n",
       "       ['70'],\n",
       "       ['70'],\n",
       "       ['70'],\n",
       "       ['70'],\n",
       "       ['70'],\n",
       "       ['112'],\n",
       "       ['112'],\n",
       "       ['116'],\n",
       "       ['116'],\n",
       "       ['116'],\n",
       "       ['116'],\n",
       "       ['116'],\n",
       "       ['116'],\n",
       "       ['92'],\n",
       "       ['73'],\n",
       "       ['92'],\n",
       "       ['92'],\n",
       "       ['92'],\n",
       "       ['161'],\n",
       "       ['161'],\n",
       "       ['156'],\n",
       "       ['156'],\n",
       "       ['52'],\n",
       "       ['85'],\n",
       "       ['52'],\n",
       "       ['85'],\n",
       "       ['85'],\n",
       "       ['68'],\n",
       "       ['100'],\n",
       "       ['90'],\n",
       "       ['90'],\n",
       "       ['110'],\n",
       "       ['68'],\n",
       "       ['88'],\n",
       "       ['114'],\n",
       "       ['114'],\n",
       "       ['114'],\n",
       "       ['114'],\n",
       "       ['162'],\n",
       "       ['162'],\n",
       "       ['114'],\n",
       "       ['160'],\n",
       "       ['134'],\n",
       "       ['106'],\n",
       "       ['114']], dtype=object)"
      ]
     },
     "execution_count": 44,
     "metadata": {},
     "output_type": "execute_result"
    }
   ],
   "source": [
    "X"
   ]
  },
  {
   "cell_type": "code",
   "execution_count": 45,
   "metadata": {},
   "outputs": [
    {
     "data": {
      "text/plain": [
       "LinearRegression(copy_X=True, fit_intercept=True, n_jobs=None, normalize=False)"
      ]
     },
     "execution_count": 45,
     "metadata": {},
     "output_type": "execute_result"
    }
   ],
   "source": [
    "# Treinamento do modelo - fit()\n",
    "modelo_v2.fit(X,Y)"
   ]
  },
  {
   "cell_type": "code",
   "execution_count": 47,
   "metadata": {},
   "outputs": [
    {
     "name": "stdout",
     "output_type": "stream",
     "text": [
      "Se horsepower = 200 nosso modelo prevê que a mediana do preço é 29879.1\n"
     ]
    }
   ],
   "source": [
    "# Fazendo previsões com o modelo treinado\n",
    "horsepower = 200\n",
    "# Xp = np.array(RM)\n",
    "Xp = np.array(horsepower).reshape(-1, 1)\n",
    "print (\"Se horsepower = %01.f nosso modelo prevê que a mediana do preço é %0.1f\" % (horsepower, modelo_v2.predict(Xp)))"
   ]
  },
  {
   "cell_type": "code",
   "execution_count": 48,
   "metadata": {},
   "outputs": [
    {
     "name": "stdout",
     "output_type": "stream",
     "text": [
      "[172.20625117]\n",
      "-4562.1749956674885\n"
     ]
    }
   ],
   "source": [
    "# Imprime os coeficientes\n",
    "print (modelo_v2.coef_)\n",
    "print (modelo_v2.intercept_)"
   ]
  },
  {
   "cell_type": "code",
   "execution_count": null,
   "metadata": {},
   "outputs": [],
   "source": []
  }
 ],
 "metadata": {
  "kernelspec": {
   "display_name": "Python 3",
   "language": "python",
   "name": "python3"
  },
  "language_info": {
   "codemirror_mode": {
    "name": "ipython",
    "version": 3
   },
   "file_extension": ".py",
   "mimetype": "text/x-python",
   "name": "python",
   "nbconvert_exporter": "python",
   "pygments_lexer": "ipython3",
   "version": "3.6.5"
  }
 },
 "nbformat": 4,
 "nbformat_minor": 4
}
